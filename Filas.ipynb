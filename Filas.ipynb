{
  "nbformat": 4,
  "nbformat_minor": 0,
  "metadata": {
    "colab": {
      "provenance": [],
      "authorship_tag": "ABX9TyP8+obzuXFXjnpZ0cttsC+A",
      "include_colab_link": true
    },
    "kernelspec": {
      "name": "python3",
      "display_name": "Python 3"
    },
    "language_info": {
      "name": "python"
    }
  },
  "cells": [
    {
      "cell_type": "markdown",
      "metadata": {
        "id": "view-in-github",
        "colab_type": "text"
      },
      "source": [
        "<a href=\"https://colab.research.google.com/github/TalitaBorg/Benchmarks/blob/main/Filas.ipynb\" target=\"_parent\"><img src=\"https://colab.research.google.com/assets/colab-badge.svg\" alt=\"Open In Colab\"/></a>"
      ]
    },
    {
      "cell_type": "code",
      "execution_count": 12,
      "metadata": {
        "colab": {
          "base_uri": "https://localhost:8080/"
        },
        "id": "_CXQzNGsTwsv",
        "outputId": "f3989829-5366-4619-ccf7-caa9a1060b70"
      },
      "outputs": [
        {
          "name": "stdout",
          "output_type": "stream",
          "text": [
            "/Existem 5 clientes na fila\n",
            "Fila atual  [1, 2, 3, 4, 5]\n",
            "Digite F: para adicionar um cliente ao final da fila \n",
            " Digite A: para realizar o atendimento \n",
            " Digite: S para sair.\n",
            "Operação (F, A ou S): A\n",
            "Cliente 1 foi atendido\n",
            "/Existem 4 clientes na fila\n",
            "Fila atual  [2, 3, 4, 5]\n",
            "Digite F: para adicionar um cliente ao final da fila \n",
            " Digite A: para realizar o atendimento \n",
            " Digite: S para sair.\n",
            "Operação (F, A ou S): S\n"
          ]
        }
      ],
      "source": [
        "ultimo = 5\n",
        "fila = list(range(1, ultimo+1))\n",
        "while True:\n",
        "  print(\"/Existem %d clientes na fila\" %len(fila))\n",
        "  print(\"Fila atual \", fila)\n",
        "  print(\"Digite F: para adicionar um cliente ao final da fila \\n Digite A: para realizar o atendimento \\n Digite: S para sair.\")\n",
        "  operacao = input(\"Operação (F, A ou S): \")\n",
        "  if operacao == \"A\":\n",
        "    if(len(fila))>0:\n",
        "      atendido = fila.pop(0) #vai atender o primeiro cliente da fila\n",
        "      print(\"Cliente %d foi atendido\" % atendido)\n",
        "    else:\n",
        "      print(\"Fila vazia! Ninguém para atender.\")\n",
        "  elif operacao == \"F\":\n",
        "    ultimo += 1\n",
        "    fila.append(ultimo) #adiciona cliente no final da fila\n",
        "  elif operacao == \"S\":\n",
        "    break\n",
        "  else:\n",
        "    print(\"Operação inválida! Digite apenas F, A ou S!\")"
      ]
    }
  ]
}