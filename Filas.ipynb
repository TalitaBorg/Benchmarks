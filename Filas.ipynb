{
  "nbformat": 4,
  "nbformat_minor": 0,
  "metadata": {
    "colab": {
      "provenance": [],
      "authorship_tag": "ABX9TyPS4h0cnYinWoopPUKXRlCI",
      "include_colab_link": true
    },
    "kernelspec": {
      "name": "python3",
      "display_name": "Python 3"
    },
    "language_info": {
      "name": "python"
    }
  },
  "cells": [
    {
      "cell_type": "markdown",
      "metadata": {
        "id": "view-in-github",
        "colab_type": "text"
      },
      "source": [
        "<a href=\"https://colab.research.google.com/github/TalitaBorg/Benchmarks/blob/main/Filas.ipynb\" target=\"_parent\"><img src=\"https://colab.research.google.com/assets/colab-badge.svg\" alt=\"Open In Colab\"/></a>"
      ]
    },
    {
      "cell_type": "code",
      "execution_count": 12,
      "metadata": {
        "colab": {
          "base_uri": "https://localhost:8080/"
        },
        "id": "_CXQzNGsTwsv",
        "outputId": "f3989829-5366-4619-ccf7-caa9a1060b70"
      },
      "outputs": [
        {
          "name": "stdout",
          "output_type": "stream",
          "text": [
            "/Existem 5 clientes na fila\n",
            "Fila atual  [1, 2, 3, 4, 5]\n",
            "Digite F: para adicionar um cliente ao final da fila \n",
            " Digite A: para realizar o atendimento \n",
            " Digite: S para sair.\n",
            "Operação (F, A ou S): A\n",
            "Cliente 1 foi atendido\n",
            "/Existem 4 clientes na fila\n",
            "Fila atual  [2, 3, 4, 5]\n",
            "Digite F: para adicionar um cliente ao final da fila \n",
            " Digite A: para realizar o atendimento \n",
            " Digite: S para sair.\n",
            "Operação (F, A ou S): S\n"
          ]
        }
      ],
      "source": [
        "#Filas em Python\n",
        "\n",
        "ultimo = 5\n",
        "fila = list(range(1, ultimo+1))\n",
        "while True:\n",
        "  print(\"/Existem %d clientes na fila\" %len(fila))\n",
        "  print(\"Fila atual \", fila)\n",
        "  print(\"Digite F: para adicionar um cliente ao final da fila \\n Digite A: para realizar o atendimento \\n Digite: S para sair.\")\n",
        "  operacao = input(\"Operação (F, A ou S): \")\n",
        "  if operacao == \"A\":\n",
        "    if(len(fila))>0:\n",
        "      atendido = fila.pop(0) #vai atender o primeiro cliente da fila\n",
        "      print(\"Cliente %d foi atendido\" % atendido)\n",
        "    else:\n",
        "      print(\"Fila vazia! Ninguém para atender.\")\n",
        "  elif operacao == \"F\":\n",
        "    ultimo += 1\n",
        "    fila.append(ultimo) #adiciona cliente no final da fila\n",
        "  elif operacao == \"S\":\n",
        "    break\n",
        "  else:\n",
        "    print(\"Operação inválida! Digite apenas F, A ou S!\")"
      ]
    },
    {
      "cell_type": "code",
      "source": [
        "#Pilhas em python\n",
        "\n",
        "ultimo = 5\n",
        "pilha = list(range(1, ultimo+1))\n",
        "while True:\n",
        "  print(\"/Existem %d pratos na pilha\" %len(pilha))\n",
        "  print(\"Pilha atual \", pilha)\n",
        "  print(\"Digite E: para empilhar um novo prato \\n Digite D: para desempilhar \\n Digite: S para sair.\")\n",
        "  operacao = input(\"Operação (E, D ou S): \")\n",
        "  if operacao == \"D\":\n",
        "    if(len(pilha))>0:\n",
        "      lavado = pilha.pop(-1)\n",
        "      print(\"Prato %d lavado\" %lavado)\n",
        "    else:\n",
        "      print(\"Pilha vazia! Nada para lavar.\")\n",
        "\n",
        "  elif operacao == \"E\":\n",
        "    ultimo = ultimo + 1\n",
        "    pilha.append(ultimo) #empilha sempre no topo da pilha\n",
        "    print(\"Prato empilhado \", pilha)\n",
        "\n",
        "  elif operacao == \"S\":\n",
        "    break\n",
        "  else:\n",
        "    print(\"Operacao invalida!\")\n",
        "\n"
      ],
      "metadata": {
        "colab": {
          "base_uri": "https://localhost:8080/"
        },
        "id": "W-Gc0i_cXV1i",
        "outputId": "2824513e-ce86-43d7-9576-2c9cf39bdef9"
      },
      "execution_count": 16,
      "outputs": [
        {
          "name": "stdout",
          "output_type": "stream",
          "text": [
            "/Existem 5 pratos na pilha\n",
            "Pilha atual  [1, 2, 3, 4, 5]\n",
            "Digite E: para empilhar um novo prato \n",
            " Digite D: para desempilhar \n",
            " Digite: S para sair.\n",
            "Operação (E, D ou S): E\n",
            "Prato empilhado  [1, 2, 3, 4, 5, 6]\n",
            "/Existem 6 pratos na pilha\n",
            "Pilha atual  [1, 2, 3, 4, 5, 6]\n",
            "Digite E: para empilhar um novo prato \n",
            " Digite D: para desempilhar \n",
            " Digite: S para sair.\n",
            "Operação (E, D ou S): D\n",
            "Prato 6 lavado\n",
            "/Existem 5 pratos na pilha\n",
            "Pilha atual  [1, 2, 3, 4, 5]\n",
            "Digite E: para empilhar um novo prato \n",
            " Digite D: para desempilhar \n",
            " Digite: S para sair.\n",
            "Operação (E, D ou S): D\n",
            "Prato 5 lavado\n",
            "/Existem 4 pratos na pilha\n",
            "Pilha atual  [1, 2, 3, 4]\n",
            "Digite E: para empilhar um novo prato \n",
            " Digite D: para desempilhar \n",
            " Digite: S para sair.\n",
            "Operação (E, D ou S): S\n"
          ]
        }
      ]
    },
    {
      "cell_type": "code",
      "source": [
        "#Buble sort\n",
        "\n",
        "L = [7,4,3,12,8]\n",
        "tamanho = 5\n",
        "while tamanho >1:\n",
        "  trocou = False\n",
        "  indice = 0\n",
        "  while indice <(tamanho-1):\n",
        "    if L[indice] > L[indice+1]:\n",
        "      trocou = True\n",
        "      temp = L[indice]\n",
        "      L[indice] = L[indice+1]\n",
        "      L[indice+1] = temp\n",
        "    indice+=1\n",
        "  if not trocou:\n",
        "    break\n",
        "  tamanho -=1\n",
        "  #print(\"aqui\", tamanho)\n",
        "for e in L:\n",
        "  print(e)"
      ],
      "metadata": {
        "colab": {
          "base_uri": "https://localhost:8080/"
        },
        "id": "cwAoVEukbe0H",
        "outputId": "f8c88b1d-f49b-4790-de8f-9017385e6d73"
      },
      "execution_count": 23,
      "outputs": [
        {
          "output_type": "stream",
          "name": "stdout",
          "text": [
            "aqui 4\n",
            "aqui 3\n",
            "3\n",
            "4\n",
            "7\n",
            "8\n",
            "12\n"
          ]
        }
      ]
    }
  ]
}