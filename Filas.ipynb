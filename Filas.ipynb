{
  "nbformat": 4,
  "nbformat_minor": 0,
  "metadata": {
    "colab": {
      "provenance": [],
      "authorship_tag": "ABX9TyOT/yDZR649dK7+CZMOxRra",
      "include_colab_link": true
    },
    "kernelspec": {
      "name": "python3",
      "display_name": "Python 3"
    },
    "language_info": {
      "name": "python"
    }
  },
  "cells": [
    {
      "cell_type": "markdown",
      "metadata": {
        "id": "view-in-github",
        "colab_type": "text"
      },
      "source": [
        "<a href=\"https://colab.research.google.com/github/TalitaBorg/Benchmarks/blob/main/Filas.ipynb\" target=\"_parent\"><img src=\"https://colab.research.google.com/assets/colab-badge.svg\" alt=\"Open In Colab\"/></a>"
      ]
    },
    {
      "cell_type": "code",
      "execution_count": 12,
      "metadata": {
        "colab": {
          "base_uri": "https://localhost:8080/"
        },
        "id": "_CXQzNGsTwsv",
        "outputId": "f3989829-5366-4619-ccf7-caa9a1060b70"
      },
      "outputs": [
        {
          "name": "stdout",
          "output_type": "stream",
          "text": [
            "/Existem 5 clientes na fila\n",
            "Fila atual  [1, 2, 3, 4, 5]\n",
            "Digite F: para adicionar um cliente ao final da fila \n",
            " Digite A: para realizar o atendimento \n",
            " Digite: S para sair.\n",
            "Operação (F, A ou S): A\n",
            "Cliente 1 foi atendido\n",
            "/Existem 4 clientes na fila\n",
            "Fila atual  [2, 3, 4, 5]\n",
            "Digite F: para adicionar um cliente ao final da fila \n",
            " Digite A: para realizar o atendimento \n",
            " Digite: S para sair.\n",
            "Operação (F, A ou S): S\n"
          ]
        }
      ],
      "source": [
        "#Filas em Python\n",
        "\n",
        "ultimo = 5\n",
        "fila = list(range(1, ultimo+1))\n",
        "while True:\n",
        "  print(\"/Existem %d clientes na fila\" %len(fila))\n",
        "  print(\"Fila atual \", fila)\n",
        "  print(\"Digite F: para adicionar um cliente ao final da fila \\n Digite A: para realizar o atendimento \\n Digite: S para sair.\")\n",
        "  operacao = input(\"Operação (F, A ou S): \")\n",
        "  if operacao == \"A\":\n",
        "    if(len(fila))>0:\n",
        "      atendido = fila.pop(0) #vai atender o primeiro cliente da fila\n",
        "      print(\"Cliente %d foi atendido\" % atendido)\n",
        "    else:\n",
        "      print(\"Fila vazia! Ninguém para atender.\")\n",
        "  elif operacao == \"F\":\n",
        "    ultimo += 1\n",
        "    fila.append(ultimo) #adiciona cliente no final da fila\n",
        "  elif operacao == \"S\":\n",
        "    break\n",
        "  else:\n",
        "    print(\"Operação inválida! Digite apenas F, A ou S!\")"
      ]
    },
    {
      "cell_type": "code",
      "source": [
        "#Pilhas em python\n",
        "\n",
        "ultimo = 5\n",
        "pilha = list(range(1, ultimo+1))\n",
        "while True:\n",
        "  print(\"/Existem %d pratos na pilha\" %len(pilha))\n",
        "  print(\"Pilha atual \", pilha)\n",
        "  print(\"Digite E: para empilhar um novo prato \\n Digite D: para desempilhar \\n Digite: S para sair.\")\n",
        "  operacao = input(\"Operação (E, D ou S): \")\n",
        "  if operacao == \"D\":\n",
        "    if(len(pilha))>0:\n",
        "      lavado = pilha.pop(-1)\n",
        "      print(\"Prato %d lavado\" %lavado)\n",
        "    else:\n",
        "      print(\"Pilha vazia! Nada para lavar.\")\n",
        "\n",
        "  elif operacao == \"E\":\n",
        "    ultimo = ultimo + 1\n",
        "    pilha.append(ultimo) #empilha sempre no topo da pilha\n",
        "    print(\"Prato empilhado \", pilha)\n",
        "\n",
        "  elif operacao == \"S\":\n",
        "    break\n",
        "  else:\n",
        "    print(\"Operacao invalida!\")\n",
        "\n"
      ],
      "metadata": {
        "colab": {
          "base_uri": "https://localhost:8080/"
        },
        "id": "W-Gc0i_cXV1i",
        "outputId": "2824513e-ce86-43d7-9576-2c9cf39bdef9"
      },
      "execution_count": 16,
      "outputs": [
        {
          "name": "stdout",
          "output_type": "stream",
          "text": [
            "/Existem 5 pratos na pilha\n",
            "Pilha atual  [1, 2, 3, 4, 5]\n",
            "Digite E: para empilhar um novo prato \n",
            " Digite D: para desempilhar \n",
            " Digite: S para sair.\n",
            "Operação (E, D ou S): E\n",
            "Prato empilhado  [1, 2, 3, 4, 5, 6]\n",
            "/Existem 6 pratos na pilha\n",
            "Pilha atual  [1, 2, 3, 4, 5, 6]\n",
            "Digite E: para empilhar um novo prato \n",
            " Digite D: para desempilhar \n",
            " Digite: S para sair.\n",
            "Operação (E, D ou S): D\n",
            "Prato 6 lavado\n",
            "/Existem 5 pratos na pilha\n",
            "Pilha atual  [1, 2, 3, 4, 5]\n",
            "Digite E: para empilhar um novo prato \n",
            " Digite D: para desempilhar \n",
            " Digite: S para sair.\n",
            "Operação (E, D ou S): D\n",
            "Prato 5 lavado\n",
            "/Existem 4 pratos na pilha\n",
            "Pilha atual  [1, 2, 3, 4]\n",
            "Digite E: para empilhar um novo prato \n",
            " Digite D: para desempilhar \n",
            " Digite: S para sair.\n",
            "Operação (E, D ou S): S\n"
          ]
        }
      ]
    }
  ]
}